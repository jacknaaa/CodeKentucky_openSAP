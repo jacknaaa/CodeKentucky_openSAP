{
 "cells": [
  {
   "cell_type": "code",
   "execution_count": null,
   "id": "fce79d43",
   "metadata": {},
   "outputs": [],
   "source": [
    "Week 6, Unit 3_ Exercise (Python_1)\n",
    "\n",
    "\n",
    "Import the random library and have a look at the function gauss() which gives back a random float number. Which parameters are required? Write a function gaussian_distribution() that returns a list of 1000 random numbers with a mean of 100 and a standard deviation of 10. Invoke this function.\n",
    "\n",
    "For the resulting list calculate and print the mean and the standard deviation using the respective functions from the statistics library. Re-run the program and observe, if the values change.\n",
    "\n",
    "Below is the output of an example execution of the program. Note that the values of the standard derivation and the mean might be different in your case.\n",
    "\n",
    "Mean: 100.15215154056546\n",
    "Standard Deviation: 9.93532937167394\n"
   ]
  },
  {
   "cell_type": "code",
   "execution_count": 1,
   "id": "14898559",
   "metadata": {},
   "outputs": [
    {
     "name": "stdout",
     "output_type": "stream",
     "text": [
      "Mean: 99.96383979470627\n",
      "Standard Deviation: 9.968270518680464\n"
     ]
    }
   ],
   "source": [
    "import random\n",
    "import statistics\n",
    "\n",
    "def gaussian_distribution():\n",
    "    mean = 100\n",
    "    std_dev = 10\n",
    "    num_samples = 1000\n",
    "    random_numbers = [random.gauss(mean, std_dev) for _ in range(num_samples)]\n",
    "    return random_numbers\n",
    "\n",
    "random_numbers = gaussian_distribution()\n",
    "\n",
    "mean = statistics.mean(random_numbers)\n",
    "std_dev = statistics.stdev(random_numbers)\n",
    "\n",
    "print(\"Mean:\", mean)\n",
    "print(\"Standard Deviation:\", std_dev)\n"
   ]
  },
  {
   "cell_type": "code",
   "execution_count": null,
   "id": "f429948f",
   "metadata": {},
   "outputs": [],
   "source": []
  }
 ],
 "metadata": {
  "kernelspec": {
   "display_name": "Python 3 (ipykernel)",
   "language": "python",
   "name": "python3"
  },
  "language_info": {
   "codemirror_mode": {
    "name": "ipython",
    "version": 3
   },
   "file_extension": ".py",
   "mimetype": "text/x-python",
   "name": "python",
   "nbconvert_exporter": "python",
   "pygments_lexer": "ipython3",
   "version": "3.9.12"
  }
 },
 "nbformat": 4,
 "nbformat_minor": 5
}
