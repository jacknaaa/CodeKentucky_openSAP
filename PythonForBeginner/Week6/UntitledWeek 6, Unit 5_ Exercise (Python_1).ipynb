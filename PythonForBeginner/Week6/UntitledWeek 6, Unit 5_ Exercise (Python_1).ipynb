{
 "cells": [
  {
   "cell_type": "code",
   "execution_count": null,
   "id": "0ca8233e",
   "metadata": {},
   "outputs": [],
   "source": [
    "The non-standard library py-sudoku offers the possibility to create your own sudokus. Follow the above link and have a look how to install and use the library. Install the library and create a new sudoku with a difficulty of 0.7 Display the sudoku and the solution of the sudoku.\n",
    "\n",
    "Hint\n",
    "In CodeOcean we already installed the library for you. You only need to install the library on your local computer.\n",
    "\n"
   ]
  },
  {
   "cell_type": "code",
   "execution_count": 1,
   "id": "e3d7d9a4",
   "metadata": {},
   "outputs": [
    {
     "ename": "ModuleNotFoundError",
     "evalue": "No module named 'sudoku'",
     "output_type": "error",
     "traceback": [
      "\u001b[1;31m---------------------------------------------------------------------------\u001b[0m",
      "\u001b[1;31mModuleNotFoundError\u001b[0m                       Traceback (most recent call last)",
      "Input \u001b[1;32mIn [1]\u001b[0m, in \u001b[0;36m<cell line: 1>\u001b[1;34m()\u001b[0m\n\u001b[1;32m----> 1\u001b[0m \u001b[38;5;28;01mfrom\u001b[39;00m \u001b[38;5;21;01msudoku\u001b[39;00m \u001b[38;5;28;01mimport\u001b[39;00m Sudoku\n\u001b[0;32m      3\u001b[0m \u001b[38;5;66;03m# Create a new Sudoku puzzle with a difficulty level of 0.7\u001b[39;00m\n\u001b[0;32m      4\u001b[0m puzzle \u001b[38;5;241m=\u001b[39m Sudoku(\u001b[38;5;241m3\u001b[39m, difficulty\u001b[38;5;241m=\u001b[39m\u001b[38;5;241m0.7\u001b[39m)\n",
      "\u001b[1;31mModuleNotFoundError\u001b[0m: No module named 'sudoku'"
     ]
    }
   ],
   "source": [
    "## pip install py-sudoku\n",
    "\n",
    "from sudoku import Sudoku\n",
    "\n",
    "# Create a new Sudoku puzzle with a difficulty level of 0.7\n",
    "puzzle = Sudoku(3, difficulty=0.7)\n",
    "\n",
    "# Display the puzzle\n",
    "print(\"Sudoku Puzzle:\")\n",
    "puzzle.print()\n",
    "\n",
    "# Display the solution\n",
    "print(\"\\nSolution:\")\n",
    "puzzle.show_solution()\n"
   ]
  },
  {
   "cell_type": "code",
   "execution_count": null,
   "id": "6395fa4c",
   "metadata": {},
   "outputs": [],
   "source": []
  }
 ],
 "metadata": {
  "kernelspec": {
   "display_name": "Python 3 (ipykernel)",
   "language": "python",
   "name": "python3"
  },
  "language_info": {
   "codemirror_mode": {
    "name": "ipython",
    "version": 3
   },
   "file_extension": ".py",
   "mimetype": "text/x-python",
   "name": "python",
   "nbconvert_exporter": "python",
   "pygments_lexer": "ipython3",
   "version": "3.9.12"
  }
 },
 "nbformat": 4,
 "nbformat_minor": 5
}
