{
 "cells": [
  {
   "cell_type": "code",
   "execution_count": 4,
   "id": "bb57ab99",
   "metadata": {},
   "outputs": [
    {
     "name": "stdout",
     "output_type": "stream",
     "text": [
      "Please enter the number of places to shift: 25\n",
      "Please enter a sentence: Jack zzz\n",
      "9\n",
      "0\n",
      "2\n",
      "10\n",
      "25\n",
      "25\n",
      "25\n",
      "The encrypted sentence is: izbj yyy\n"
     ]
    }
   ],
   "source": [
    "alphabet = ['a', 'b', 'c', 'd', 'e', 'f', 'g', 'h', 'i', 'j', 'k', 'l', 'm', 'n', 'o', 'p', 'q', 'r', 's', 't', 'u', 'v', 'w', 'x', 'y', 'z']\n",
    "special = ['=', '-', '(', ')', '*', '&', '^', '%', '$', '#', '@', '!', '~', '.', '>', ',', '<', '/', '?', ':', '[', '{', ']', '}', '\\\\', '|', '\\'', '\\\"']\n",
    "\n",
    "\n",
    "atoz = \"abcdefghijklmnopqrstuvwxyz\"\n",
    "\n",
    "def encryption(text, number_shift):\n",
    "    number_shift = int(number_shift)\n",
    "    text = text.lower()\n",
    "    return_text = \"\"\n",
    "    for char in text:\n",
    "        if char in atoz:\n",
    "            index = atoz.find(char)\n",
    "#             print(index)\n",
    "            index = (index + number_shift) % 26\n",
    "            index = abs(index)\n",
    "            char = atoz[index]\n",
    "        return_text += char\n",
    "    return return_text\n",
    "\n",
    "number_shift = input(\"Please enter the number of places to shift: \")\n",
    "check_isdecimal = number_shift.isdecimal()\n",
    "if check_isdecimal != 1 or int(number_shift) > 25 or int(number_shift) <0:\n",
    "    print(\"You need to enter a number between 0 and 25!\")\n",
    "else:\n",
    "    main_sentence = input(\"Please enter a sentence: \")\n",
    "    encrypted_sentence = encryption(main_sentence, number_shift)\n",
    "    print(f\"The encrypted sentence is: {encrypted_sentence}\")"
   ]
  },
  {
   "cell_type": "code",
   "execution_count": null,
   "id": "e8a900d1-ab6d-4a61-aab4-2b261f166f5d",
   "metadata": {},
   "outputs": [],
   "source": []
  },
  {
   "cell_type": "code",
   "execution_count": null,
   "id": "09fa7219",
   "metadata": {},
   "outputs": [],
   "source": []
  }
 ],
 "metadata": {
  "kernelspec": {
   "display_name": "Python 3 (ipykernel)",
   "language": "python",
   "name": "python3"
  },
  "language_info": {
   "codemirror_mode": {
    "name": "ipython",
    "version": 3
   },
   "file_extension": ".py",
   "mimetype": "text/x-python",
   "name": "python",
   "nbconvert_exporter": "python",
   "pygments_lexer": "ipython3",
   "version": "3.9.12"
  }
 },
 "nbformat": 4,
 "nbformat_minor": 5
}
