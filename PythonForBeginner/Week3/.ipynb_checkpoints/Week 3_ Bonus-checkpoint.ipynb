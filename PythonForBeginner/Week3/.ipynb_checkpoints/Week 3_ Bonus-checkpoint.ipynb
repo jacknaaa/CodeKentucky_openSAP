{
 "cells": [
  {
   "cell_type": "code",
   "execution_count": 3,
   "id": "bb57ab99",
   "metadata": {},
   "outputs": [
    {
     "name": "stdin",
     "output_type": "stream",
     "text": [
      "Please enter the number of places to shift:  25\n"
     ]
    },
    {
     "name": "stdout",
     "output_type": "stream",
     "text": [
      "doing\n"
     ]
    }
   ],
   "source": [
    "encryption_characters = {\n",
    "              \"a\": \"f\",\n",
    "              \"b\": \"g\",\n",
    "              \"c\": \"h\",\n",
    "              \"d\": \"i\",\n",
    "              \"e\": \"j\",\n",
    "              \"f\": \"k\",\n",
    "              \"g\": \"l\",\n",
    "              \"h\": \"m\",\n",
    "              \"i\": \"n\",\n",
    "              \"j\": \"o\",\n",
    "              \"k\": \"p\",\n",
    "              \"l\": \"q\",\n",
    "              \"m\": \"r\",\n",
    "              \"n\": \"s\",\n",
    "              \"o\": \"t\",\n",
    "              \"p\": \"u\",\n",
    "              \"q\": \"v\",\n",
    "              \"r\": \"w\",\n",
    "              \"s\": \"x\",\n",
    "              \"t\": \"y\",\n",
    "              \"u\": \"z\",\n",
    "              \"v\": \"a\",\n",
    "              \"w\": \"b\",\n",
    "              \"x\": \"c\",\n",
    "              \"y\": \"d\",\n",
    "              \"z\": \"e\"\n",
    "                        }\n",
    "def encryption(text):\n",
    "    return text\n",
    "number_shift = int(input(\"Please enter the number of places to shift: \"))\n",
    "if number_shift > 25 or number_shift <0:\n",
    "    print(\"You need to enter a number between 0 and 25!\")\n",
    "else:\n",
    "    \n"
   ]
  },
  {
   "cell_type": "code",
   "execution_count": null,
   "id": "e8a900d1-ab6d-4a61-aab4-2b261f166f5d",
   "metadata": {},
   "outputs": [],
   "source": []
  }
 ],
 "metadata": {
  "kernelspec": {
   "display_name": "Python 3 (ipykernel)",
   "language": "python",
   "name": "python3"
  },
  "language_info": {
   "codemirror_mode": {
    "name": "ipython",
    "version": 3
   },
   "file_extension": ".py",
   "mimetype": "text/x-python",
   "name": "python",
   "nbconvert_exporter": "python",
   "pygments_lexer": "ipython3",
   "version": "3.9.13"
  }
 },
 "nbformat": 4,
 "nbformat_minor": 5
}
