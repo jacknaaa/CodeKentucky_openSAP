{
 "cells": [
  {
   "cell_type": "code",
   "execution_count": 1,
   "id": "94cd36fa",
   "metadata": {},
   "outputs": [
    {
     "name": "stdout",
     "output_type": "stream",
     "text": [
      "Please enter the given name of the student: Harry\n",
      "Please enter the surname of the student: Potter\n",
      "Please enter the field of study of the student: Defence Against the Dark Arts\n",
      "('Harry', 'Potter', 'Defence Against the Dark Arts')\n"
     ]
    }
   ],
   "source": [
    "name = input(\"Please enter the given name of the student: \")\n",
    "surname = input(\"Please enter the surname of the student: \")\n",
    "field_of_study = input(\"Please enter the field of study of the student: \")\n",
    "\n",
    "student_data = (name, surname, field_of_study)\n",
    "print(student_data)"
   ]
  },
  {
   "cell_type": "code",
   "execution_count": null,
   "id": "c7f3078f",
   "metadata": {},
   "outputs": [],
   "source": []
  }
 ],
 "metadata": {
  "kernelspec": {
   "display_name": "Python 3 (ipykernel)",
   "language": "python",
   "name": "python3"
  },
  "language_info": {
   "codemirror_mode": {
    "name": "ipython",
    "version": 3
   },
   "file_extension": ".py",
   "mimetype": "text/x-python",
   "name": "python",
   "nbconvert_exporter": "python",
   "pygments_lexer": "ipython3",
   "version": "3.9.12"
  }
 },
 "nbformat": 4,
 "nbformat_minor": 5
}
