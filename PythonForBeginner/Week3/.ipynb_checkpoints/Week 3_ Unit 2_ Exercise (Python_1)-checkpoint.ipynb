{
 "cells": [
  {
   "cell_type": "code",
   "execution_count": 15,
   "id": "cc0ac36d",
   "metadata": {},
   "outputs": [
    {
     "name": "stdout",
     "output_type": "stream",
     "text": [
      "Please enter a sentence: I'm so excited to learn python\n",
      "[\"I'm\", 'so', 'excited', 'to', 'learn', 'python']\n",
      "I'm so 🤩 to learn 🐍\n"
     ]
    }
   ],
   "source": [
    "emojis_dict = {\n",
    "\"happy\": \"😃\",\n",
    "\"heart\": \"😍\",\n",
    "\"rotfl\": \"🤣\",\n",
    "\"smile\": \"😊\",\n",
    "\"crying\": \"😭\",\n",
    "\"kiss\": \"😘\",\n",
    "\"clap\": \"👏\",\n",
    "\"grin\": \"😁\",\n",
    "\"fire\": \"🔥\",\n",
    "\"broken\": \"💔\",\n",
    "\"think\": \"🤔\",\n",
    "\"excited\": \"🤩\",\n",
    "\"boring\": \"🙄\",\n",
    "\"winking\": \"😉\",\n",
    "\"ok\": \"👌\",\n",
    "\"hug\": \"🤗\",\n",
    "\"cool\": \"😎\",\n",
    "\"angry\": \"😠\",\n",
    "\"python\": \"🐍\"\n",
    "}\n",
    "\n",
    "def check_emojis(full_text):\n",
    "    words = full_text.split()\n",
    "    index_word = 0\n",
    "    print(words)\n",
    "    for i in words:\n",
    "        if i in emojis_dict:\n",
    "            words[index_word] = emojis_dict[i]\n",
    "        index_word += 1\n",
    "    return words\n",
    "\n",
    "def convert_list_to_string(text):\n",
    "    ans_text = ' '.join(text)\n",
    "    return ans_text\n",
    "\n",
    "full_text = input(\"Please enter a sentence: \")\n",
    "words_emojis = check_emojis(full_text)\n",
    "answer = convert_list_to_string(words_emojis)\n",
    "print(answer)\n"
   ]
  },
  {
   "cell_type": "code",
   "execution_count": null,
   "id": "c5c48abd",
   "metadata": {},
   "outputs": [],
   "source": []
  }
 ],
 "metadata": {
  "kernelspec": {
   "display_name": "Python 3 (ipykernel)",
   "language": "python",
   "name": "python3"
  },
  "language_info": {
   "codemirror_mode": {
    "name": "ipython",
    "version": 3
   },
   "file_extension": ".py",
   "mimetype": "text/x-python",
   "name": "python",
   "nbconvert_exporter": "python",
   "pygments_lexer": "ipython3",
   "version": "3.9.12"
  }
 },
 "nbformat": 4,
 "nbformat_minor": 5
}
