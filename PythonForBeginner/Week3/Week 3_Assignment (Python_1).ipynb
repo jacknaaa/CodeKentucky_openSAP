{
 "cells": [
  {
   "cell_type": "code",
   "execution_count": 8,
   "id": "f48a7b38",
   "metadata": {},
   "outputs": [
    {
     "name": "stdout",
     "output_type": "stream",
     "text": [
      "Please enter a sentence: Jack\n",
      "The encrypted sentence is: ofhp\n"
     ]
    }
   ],
   "source": [
    "encryption_characters = {\"a\": \"f\",\n",
    "              \"b\": \"g\",\n",
    "              \"c\": \"h\",\n",
    "              \"d\": \"i\",\n",
    "              \"e\": \"j\",\n",
    "              \"f\": \"k\",\n",
    "              \"g\": \"l\",\n",
    "              \"h\": \"m\",\n",
    "              \"i\": \"n\",\n",
    "              \"j\": \"o\",\n",
    "              \"k\": \"p\",\n",
    "              \"l\": \"q\",\n",
    "              \"m\": \"r\",\n",
    "              \"n\": \"s\",\n",
    "              \"o\": \"t\",\n",
    "              \"p\": \"u\",\n",
    "              \"q\": \"v\",\n",
    "              \"r\": \"w\",\n",
    "              \"s\": \"x\",\n",
    "              \"t\": \"y\",\n",
    "              \"u\": \"z\",\n",
    "              \"v\": \"a\",\n",
    "              \"w\": \"b\",\n",
    "              \"x\": \"c\",\n",
    "              \"y\": \"d\",\n",
    "              \"z\": \"e\"}\n",
    "\n",
    "def encryption(text):\n",
    "    text = text.lower()\n",
    "    text = [*text]\n",
    "#     print(text)\n",
    "    index_text = 0\n",
    "#     print(encryption_characters)\n",
    "    for i in text:\n",
    "        if i in encryption_characters:\n",
    "            text[index_text] = encryption_characters[i]\n",
    "            index_text += 1\n",
    "    text = ''.join(text)\n",
    "    return text\n",
    "\n",
    "main_sentence = input(\"Please enter a sentence: \")\n",
    "main_sentence = main_sentence.split()\n",
    "encrypted_sentence = []\n",
    "for i in main_sentence:\n",
    "    encrypted_sentence.append(encryption(i))\n",
    "es_answer = ' '.join(encrypted_sentence)\n",
    "\n",
    "print(f\"The encrypted sentence is: {es_answer}\")"
   ]
  },
  {
   "cell_type": "code",
   "execution_count": null,
   "id": "d85c59b6",
   "metadata": {},
   "outputs": [],
   "source": []
  },
  {
   "cell_type": "code",
   "execution_count": null,
   "id": "95b2a0a9",
   "metadata": {},
   "outputs": [],
   "source": []
  }
 ],
 "metadata": {
  "kernelspec": {
   "display_name": "Python 3 (ipykernel)",
   "language": "python",
   "name": "python3"
  },
  "language_info": {
   "codemirror_mode": {
    "name": "ipython",
    "version": 3
   },
   "file_extension": ".py",
   "mimetype": "text/x-python",
   "name": "python",
   "nbconvert_exporter": "python",
   "pygments_lexer": "ipython3",
   "version": "3.9.12"
  }
 },
 "nbformat": 4,
 "nbformat_minor": 5
}
