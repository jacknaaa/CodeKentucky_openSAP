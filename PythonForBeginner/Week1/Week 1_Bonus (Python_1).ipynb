{
 "cells": [
  {
   "cell_type": "code",
   "execution_count": 4,
   "id": "5fe2656a-e25e-49dd-9f69-c038917af5a7",
   "metadata": {},
   "outputs": [
    {
     "name": "stdin",
     "output_type": "stream",
     "text": [
      "Please enter the value of a: 80\n",
      "Please enter the value of b: 546\n",
      "Please enter the value of c: 456\n"
     ]
    },
    {
     "name": "stdout",
     "output_type": "stream",
     "text": [
      "The quadratic equation has 2 real solutions.\n"
     ]
    }
   ],
   "source": [
    "def calculate_discriminant(a, b, c):\n",
    "    return b**2 - 4*a*c\n",
    "\n",
    "def quadratic_solution_count(a, b, c):\n",
    "    discriminant = calculate_discriminant(a, b, c)\n",
    "    \n",
    "    if discriminant > 0:\n",
    "        print(\"The quadratic equation has 2 real solutions.\")\n",
    "    elif discriminant == 0:\n",
    "        print(\"The quadratic equation has 1 real solution.\")\n",
    "    else:\n",
    "        print(\"The quadratic equation has 2 complex solutions.\")\n",
    "\n",
    "a = int(input(\"Please enter the value of a:\"))\n",
    "b = int(input(\"Please enter the value of b:\"))\n",
    "c = int(input(\"Please enter the value of c:\"))\n",
    "\n",
    "quadratic_solution_count(a, b, c)"
   ]
  },
  {
   "cell_type": "code",
   "execution_count": null,
   "id": "69adc3d9-4d78-42ac-a9ff-aa0e5c6d8108",
   "metadata": {},
   "outputs": [],
   "source": []
  }
 ],
 "metadata": {
  "kernelspec": {
   "display_name": "Python 3 (ipykernel)",
   "language": "python",
   "name": "python3"
  },
  "language_info": {
   "codemirror_mode": {
    "name": "ipython",
    "version": 3
   },
   "file_extension": ".py",
   "mimetype": "text/x-python",
   "name": "python",
   "nbconvert_exporter": "python",
   "pygments_lexer": "ipython3",
   "version": "3.9.12"
  }
 },
 "nbformat": 4,
 "nbformat_minor": 5
}
