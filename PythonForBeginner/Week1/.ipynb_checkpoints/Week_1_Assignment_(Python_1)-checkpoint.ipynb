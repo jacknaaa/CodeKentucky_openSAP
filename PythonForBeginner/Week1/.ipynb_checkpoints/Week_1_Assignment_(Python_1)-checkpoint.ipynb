{
 "cells": [
  {
   "cell_type": "code",
   "execution_count": null,
   "id": "2619ab98-e28f-455d-be2a-9a1fc55ad067",
   "metadata": {},
   "outputs": [],
   "source": []
  }
 ],
 "metadata": {
  "kernelspec": {
   "display_name": "Python 3 (ipykernel)",
   "language": "python",
   "name": "python3"
  },
  "language_info": {
   "name": ""
  }
 },
 "nbformat": 4,
 "nbformat_minor": 5
}
