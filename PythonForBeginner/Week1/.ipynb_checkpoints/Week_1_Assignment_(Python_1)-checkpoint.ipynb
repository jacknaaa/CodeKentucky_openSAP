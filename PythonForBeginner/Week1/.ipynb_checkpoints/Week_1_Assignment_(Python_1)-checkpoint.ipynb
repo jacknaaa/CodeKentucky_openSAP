{
 "cells": [
  {
   "cell_type": "code",
   "execution_count": 5,
   "id": "2619ab98-e28f-455d-be2a-9a1fc55ad067",
   "metadata": {},
   "outputs": [
    {
     "name": "stdin",
     "output_type": "stream",
     "text": [
      "Please enter the first angle:  30\n",
      "Please enter the second angle:  30\n",
      "Please enter the third angle:  90\n"
     ]
    },
    {
     "name": "stdout",
     "output_type": "stream",
     "text": [
      "The entered values are not valid.\n"
     ]
    }
   ],
   "source": [
    "angle1 = int(input(\"Please enter the first angle: \"))\n",
    "angle2 = int(input(\"Please enter the second angle: \"))\n",
    "angle3 = int(input(\"Please enter the third angle: \"))\n",
    "\n",
    "if angle1 <= 0 or angle2 <= 0 or angle3 <= 0:\n",
    "    print(\"Angles smaller than 0 are not valid.\")\n",
    "elif angle1 + angle2 + angle3 != 180:\n",
    "    print(\"The entered values are not valid.\")\n",
    "else:\n",
    "    if angle1 == 90 or angle2 == 90 or angle3 == 90:\n",
    "        print(\"The triangle is a right triangle.\")\n",
    "    elif angle1 > 90 or angle2 > 90 or angle3 > 90:\n",
    "        print(\"The triangle is an obtuse triangle.\")\n",
    "    else:\n",
    "        print(\"The triangle is an acute triangle.\")"
   ]
  },
  {
   "cell_type": "code",
   "execution_count": null,
   "id": "aa2907c9-da25-4111-ac58-f5a6a0ed1abe",
   "metadata": {},
   "outputs": [],
   "source": []
  }
 ],
 "metadata": {
  "kernelspec": {
   "display_name": "Python 3 (ipykernel)",
   "language": "python",
   "name": "python3"
  },
  "language_info": {
   "codemirror_mode": {
    "name": "ipython",
    "version": 3
   },
   "file_extension": ".py",
   "mimetype": "text/x-python",
   "name": "python",
   "nbconvert_exporter": "python",
   "pygments_lexer": "ipython3",
   "version": "3.9.13"
  }
 },
 "nbformat": 4,
 "nbformat_minor": 5
}
