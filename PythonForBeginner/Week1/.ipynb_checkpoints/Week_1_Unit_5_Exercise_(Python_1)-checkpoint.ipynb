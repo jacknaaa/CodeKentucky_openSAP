{
 "cells": [
  {
   "cell_type": "code",
   "execution_count": 1,
   "id": "06881df7-2a35-4f39-8bd2-0d0265ce8986",
   "metadata": {},
   "outputs": [
    {
     "name": "stdin",
     "output_type": "stream",
     "text": [
      "Please enter the first number: 80\n",
      "Please enter the second number: 120\n",
      "Please enter the third number: 59\n"
     ]
    },
    {
     "name": "stdout",
     "output_type": "stream",
     "text": [
      "The largest number is 120\n"
     ]
    }
   ],
   "source": [
    "first = int(input('Please enter the first number:'))\n",
    "second = int(input('Please enter the second number:'))\n",
    "third = int(input('Please enter the third number:'))\n",
    "answer = 0\n",
    "\n",
    "if(first >= second) and (first >= third):\n",
    "    answer = first\n",
    "elif(second >= first) and (second >= third):\n",
    "    answer = second\n",
    "else:\n",
    "    answer = third\n",
    "    \n",
    "print(\"The largest number is \" + str(answer))"
   ]
  },
  {
   "cell_type": "code",
   "execution_count": null,
   "id": "7e88b7b2-bb5d-4349-ab96-5ac50583329f",
   "metadata": {},
   "outputs": [],
   "source": []
  }
 ],
 "metadata": {
  "kernelspec": {
   "display_name": "Python 3 (ipykernel)",
   "language": "python",
   "name": "python3"
  },
  "language_info": {
   "codemirror_mode": {
    "name": "ipython",
    "version": 3
   },
   "file_extension": ".py",
   "mimetype": "text/x-python",
   "name": "python",
   "nbconvert_exporter": "python",
   "pygments_lexer": "ipython3",
   "version": "3.9.13"
  }
 },
 "nbformat": 4,
 "nbformat_minor": 5
}
