{
 "cells": [
  {
   "cell_type": "code",
   "execution_count": 1,
   "id": "9e1dcb99-66b1-493c-9ee3-22bd0c3030ce",
   "metadata": {},
   "outputs": [
    {
     "name": "stdin",
     "output_type": "stream",
     "text": [
      "Please enter a name: Jack\n",
      "Please enter a start: Home\n",
      "Please enter a destination: Office\n",
      "Please enter a means of transportation: Car\n"
     ]
    },
    {
     "name": "stdout",
     "output_type": "stream",
     "text": [
      "Jack wants to travel from Home to Office by Car\n"
     ]
    }
   ],
   "source": [
    "name = input('Please enter a name:')\n",
    "start = input('Please enter a start:')\n",
    "destination = input('Please enter a destination:')\n",
    "transportation = input('Please enter a means of transportation:')\n",
    "\n",
    "print(name + \" wants to travel from \" + start + \" to \" + destination + \" by \" + transportation)"
   ]
  },
  {
   "cell_type": "code",
   "execution_count": null,
   "id": "f5780f2a-e4db-42cf-aa9e-09b8e541e8cb",
   "metadata": {},
   "outputs": [],
   "source": []
  }
 ],
 "metadata": {
  "kernelspec": {
   "display_name": "Python 3 (ipykernel)",
   "language": "python",
   "name": "python3"
  },
  "language_info": {
   "codemirror_mode": {
    "name": "ipython",
    "version": 3
   },
   "file_extension": ".py",
   "mimetype": "text/x-python",
   "name": "python",
   "nbconvert_exporter": "python",
   "pygments_lexer": "ipython3",
   "version": "3.9.13"
  }
 },
 "nbformat": 4,
 "nbformat_minor": 5
}
