{
 "cells": [
  {
   "cell_type": "code",
   "execution_count": 21,
   "id": "d3651341",
   "metadata": {},
   "outputs": [
    {
     "name": "stdout",
     "output_type": "stream",
     "text": [
      "Please enter an initial stock level: 500\n",
      "Please enter the number of month to plan: 5\n",
      "Please enter the planned sales quantity: 300\n",
      "Please enter the planned sales quantity: 250\n",
      "Please enter the planned sales quantity: 200\n",
      "Please enter the planned sales quantity: 400\n",
      "Please enter the planned sales quantity: 100\n",
      "\n",
      "\n",
      "The resulting production quantities are:\n",
      "Production quantity month 1 - 0\n",
      "Production quantity month 2 - 50\n",
      "Production quantity month 3 - 200\n",
      "Production quantity month 4 - 400\n",
      "Production quantity month 5 - 100\n"
     ]
    }
   ],
   "source": [
    "def get_stock_month():\n",
    "    init_stock = int(input(\"Please enter an initial stock level: \"))\n",
    "    number_of_month = int(input(\"Please enter the number of month to plan: \"))\n",
    "    return init_stock, number_of_month\n",
    "\n",
    "\n",
    "def get_sales_quantity(number_of_month):\n",
    "    sale_quantity = []\n",
    "    for i in range(number_of_month):\n",
    "        sale_quantity.append(int(input(\"Please enter the planned sales quantity: \")))\n",
    "    return sale_quantity\n",
    "\n",
    "def resulting_production_quantities(stock_price, sale_quantity):\n",
    "    stock_price = stock_price - sale_quantity\n",
    "    return stock_price\n",
    "\n",
    "\n",
    "init_stock, number_of_month = get_stock_month()\n",
    "sale_quantity = get_sales_quantity(number_of_month)\n",
    "\n",
    "print(\"\\n\")\n",
    "\n",
    "#loops to send sale quantity each one and return the rest.\n",
    "count = 1\n",
    "pq_answer = 0\n",
    "Production_quantity = init_stock\n",
    "print(\"The resulting production quantities are:\")\n",
    "for i in sale_quantity:\n",
    "    Production_quantity = resulting_production_quantities(Production_quantity, i)\n",
    "    if(Production_quantity >= 0):\n",
    "        print(\"Production quantity month \" + str(count) + \" - \" + \"0\")\n",
    "    else:\n",
    "        pq_answer = abs(Production_quantity)\n",
    "        Production_quantity = 0\n",
    "        print(\"Production quantity month \" + str(count) + \" - \" + str(pq_answer))\n",
    "    count += 1"
   ]
  },
  {
   "cell_type": "code",
   "execution_count": null,
   "id": "1b94d484",
   "metadata": {},
   "outputs": [],
   "source": []
  },
  {
   "cell_type": "code",
   "execution_count": null,
   "id": "0aa0b6d8",
   "metadata": {},
   "outputs": [],
   "source": []
  }
 ],
 "metadata": {
  "kernelspec": {
   "display_name": "Python 3 (ipykernel)",
   "language": "python",
   "name": "python3"
  },
  "language_info": {
   "codemirror_mode": {
    "name": "ipython",
    "version": 3
   },
   "file_extension": ".py",
   "mimetype": "text/x-python",
   "name": "python",
   "nbconvert_exporter": "python",
   "pygments_lexer": "ipython3",
   "version": "3.9.12"
  }
 },
 "nbformat": 4,
 "nbformat_minor": 5
}
