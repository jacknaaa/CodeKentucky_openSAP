{
 "cells": [
  {
   "cell_type": "code",
   "execution_count": 8,
   "id": "6c198746-6cd5-4471-a73b-3c3f253340b3",
   "metadata": {},
   "outputs": [
    {
     "name": "stdin",
     "output_type": "stream",
     "text": [
      "Please enter the number of rows in the matrix: 3\n",
      "Please enter the number of columns in the matrix: 3\n"
     ]
    },
    {
     "name": "stdout",
     "output_type": "stream",
     "text": [
      "Enter the matrix values:\n"
     ]
    },
    {
     "name": "stdin",
     "output_type": "stream",
     "text": [
      "values: 3\n",
      "values: 3\n",
      "values: 3\n",
      "values: 3\n",
      "values: 3\n",
      "values: 3\n",
      "values: 3\n",
      "values: 3\n",
      "values: 3\n"
     ]
    },
    {
     "name": "stdout",
     "output_type": "stream",
     "text": [
      "Sum of row: 9\n",
      "Sum of row: 9\n",
      "Sum of row: 9\n"
     ]
    }
   ],
   "source": [
    "def get_matrix_dimensions():\n",
    "    rows = int(input(\"Please enter the number of rows in the matrix:\"))\n",
    "    columns = int(input(\"Please enter the number of columns in the matrix:\"))\n",
    "    return rows, columns\n",
    "\n",
    "def get_matrix_elements(rows, columns):\n",
    "    matrix = []\n",
    "    print(\"Enter the matrix values:\")\n",
    "    for i in range(rows):\n",
    "        row = []\n",
    "        for j in range(columns):\n",
    "            element = int(input(\"values:\"))\n",
    "            row.append(element)\n",
    "        matrix.append(row)\n",
    "    return matrix\n",
    "\n",
    "def print_row_sums(matrix):\n",
    "    for i, row in enumerate(matrix):\n",
    "        row_sum = sum(row)\n",
    "        print(f\"Sum of row: {row_sum}\")\n",
    "\n",
    "rows, columns = get_matrix_dimensions()\n",
    "matrix = get_matrix_elements(rows, columns)\n",
    "print_row_sums(matrix)"
   ]
  },
  {
   "cell_type": "code",
   "execution_count": null,
   "id": "8e5af045-9f27-4eca-ba8a-64a9372623f2",
   "metadata": {},
   "outputs": [],
   "source": []
  }
 ],
 "metadata": {
  "kernelspec": {
   "display_name": "Python 3 (ipykernel)",
   "language": "python",
   "name": "python3"
  },
  "language_info": {
   "codemirror_mode": {
    "name": "ipython",
    "version": 3
   },
   "file_extension": ".py",
   "mimetype": "text/x-python",
   "name": "python",
   "nbconvert_exporter": "python",
   "pygments_lexer": "ipython3",
   "version": "3.9.12"
  }
 },
 "nbformat": 4,
 "nbformat_minor": 5
}
