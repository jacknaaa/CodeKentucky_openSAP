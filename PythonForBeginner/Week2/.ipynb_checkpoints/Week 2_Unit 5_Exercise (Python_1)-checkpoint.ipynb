{
 "cells": [
  {
   "cell_type": "markdown",
   "id": "75c27d7e-748e-4cd8-92e9-957ac4939d16",
   "metadata": {},
   "source": [
    "## rows = int(input(\"Please enter the number of rows in the matrix:\"))\n",
    "columns = int(input(\"Please enter the number of columns in the matrix:\"))\n",
    "\n",
    "loops = rows * columns\n",
    "matrix = []\n",
    "\n",
    "print(\"Enter the matrix values:\")\n",
    "for i in range(loops):\n",
    "    matrix[i] = int(input(\"values:\"))\n",
    "\n",
    "print(matrix)"
   ]
  },
  {
   "cell_type": "markdown",
   "id": "ec9cde64-4887-4cae-8ab3-e93535f72141",
   "metadata": {},
   "source": [
    "##### rows = int(input(\"Please enter the number of rows in the matrix:\"))\n",
    "columns = int(input(\"Please enter the number of columns in the matrix:\"))\n",
    "\n",
    "loops = rows * columns\n",
    "matrix = []\n",
    "\n",
    "\n",
    "print(\"Enter the matrix values:\")\n",
    "for i in range(loops):\n",
    "    matrix.append(int(input(\"values:\")))\n",
    "print(matrix)\n",
    "\n",
    "sum_row = 0\n",
    "sum_colum = 0\n",
    "for sr in range(rows):\n",
    "    sum_row += matrix[sr]\n",
    "    col_matrix = matrix.pop(sr)\n",
    "    print(col_matrix)\n",
    "# for sc in range(columns):\n",
    "    # sum_colum += col_matrix[sc]\n",
    "    \n",
    "# print(sum_row)\n",
    "# print(sum_colum)\n"
   ]
  },
  {
   "cell_type": "markdown",
   "id": "4d23ee6e-8977-4b1c-aac4-7a3c4ca02efe",
   "metadata": {},
   "source": [
    "# rows = int(input(\"Please enter the number of rows in the matrix:\"))\n",
    "columns = int(input(\"Please enter the number of columns in the matrix:\"))\n",
    "\n",
    "loops = rows * columns\n",
    "matrix = []\n",
    "col_matrix = []\n",
    "\n",
    "print(\"Enter the matrix values:\")\n",
    "for i in range(loops):\n",
    "    matrix.append(int(input(\"values:\")))\n",
    "print(matrix)\n",
    "\n",
    "sum_row = sum(matrix[:rows])\n",
    "sum_colum = sum(matrix[columns:])\n",
    "\n",
    "\n",
    "# for sr in range(rows):\n",
    "#     sum_row += matrix[sr]\n",
    "# for sc in range(columns):\n",
    "#     sum_colum += col_matrix[sc]\n",
    "    \n",
    "print(sum_row)\n",
    "print(sum_colum)\n"
   ]
  },
  {
   "cell_type": "markdown",
   "id": "75f4a96b-fe5d-41e3-8c07-fb500577ddbf",
   "metadata": {},
   "source": [
    "##### def get_values(loops):\n",
    "    print(\"Enter the matrix values:\")\n",
    "    for i in range(loops):\n",
    "        matrix.append(int(input(\"values:\")))\n",
    "        print(sum_rc(matrix))\n",
    "\n",
    "def sum_rc(matrix):\n",
    "    sum_row = sum(matrix[:columns])\n",
    "    sum_colum = sum(matrix[columns:])\n",
    "    \n",
    "    return(\"Sum of row:\" + str(sum_row))\n",
    "\n",
    "    \n",
    "    \n",
    "    \n",
    "    \n",
    "\n",
    "matrix = []\n",
    "\n",
    "rows = int(input(\"Please enter the number of rows in the matrix:\"))\n",
    "columns = int(input(\"Please enter the number of columns in the matrix:\"))\n",
    "loops = rows * columns\n",
    "get_values(loops)\n"
   ]
  },
  {
   "cell_type": "code",
   "execution_count": null,
   "id": "6c9f67e7-64fb-4d10-bdaf-8b1aa2292f32",
   "metadata": {},
   "outputs": [],
   "source": []
  },
  {
   "cell_type": "code",
   "execution_count": 24,
   "id": "29161869-2e67-4897-8d4c-488899eb91d0",
   "metadata": {},
   "outputs": [
    {
     "ename": "SyntaxError",
     "evalue": "invalid syntax (1525154540.py, line 4)",
     "output_type": "error",
     "traceback": [
      "\u001b[1;36m  Input \u001b[1;32mIn [24]\u001b[1;36m\u001b[0m\n\u001b[1;33m    return rows, columns\u001b[0m\n\u001b[1;37m    ^\u001b[0m\n\u001b[1;31mSyntaxError\u001b[0m\u001b[1;31m:\u001b[0m invalid syntax\n"
     ]
    }
   ],
   "source": []
  },
  {
   "cell_type": "code",
   "execution_count": 25,
   "id": "0784678a-1e3b-4c77-80cd-b9da629807d7",
   "metadata": {},
   "outputs": [
    {
     "name": "stdout",
     "output_type": "stream",
     "text": [
      "test\n"
     ]
    }
   ],
   "source": [
    "print(\"test\")"
   ]
  },
  {
   "cell_type": "code",
   "execution_count": 31,
   "id": "3fb683d4-c664-45bb-8def-75d4987cb729",
   "metadata": {},
   "outputs": [
    {
     "ename": "SyntaxError",
     "evalue": "invalid syntax (1617129353.py, line 21)",
     "output_type": "error",
     "traceback": [
      "\u001b[1;36m  Input \u001b[1;32mIn [31]\u001b[1;36m\u001b[0m\n\u001b[1;33m    rows, columns = get_matrix_dimensions()\u001b[0m\n\u001b[1;37m    ^\u001b[0m\n\u001b[1;31mSyntaxError\u001b[0m\u001b[1;31m:\u001b[0m invalid syntax\n"
     ]
    }
   ],
   "source": [
    "def get_matrix_dimensions():\n",
    "    rows = int(input(\"Please enter the number of rows in the matrix:\"))\n",
    "    columns = int(input(\"Please enter the number of columns in the matrix:\"))\n",
    "    return rows, columns\n",
    "\n",
    "def get_matrix_elements(rows, columns):\n",
    "    matrix = []\n",
    "    print(\"Enter the matrix values:\")\n",
    "    for i in range(rows):\n",
    "        row = []\n",
    "        for j in range(columns):\n",
    "            element = int(input(\"values:\"))\n",
    "            row.append(element)\n",
    "        matrix.append(row)\n",
    "    return matrix\n",
    "    \n",
    "def print_row_sums(matrix):\n",
    "    for i, row in enumerate(matrix):\n",
    "        row_sum = sum(row)\n",
    "        print(f\"Sum of row: {row_sum}\"\n",
    "\n",
    "rows, columns = get_matrix_dimensions()\n",
    "matrix = get_matrix_elements(rows, columns)\n",
    "print_row_sums(matrix)"
   ]
  },
  {
   "cell_type": "code",
   "execution_count": null,
   "id": "1e024ec4-77d9-4635-b5ed-2d8012154572",
   "metadata": {},
   "outputs": [],
   "source": []
  }
 ],
 "metadata": {
  "kernelspec": {
   "display_name": "Python 3 (ipykernel)",
   "language": "python",
   "name": "python3"
  },
  "language_info": {
   "codemirror_mode": {
    "name": "ipython",
    "version": 3
   },
   "file_extension": ".py",
   "mimetype": "text/x-python",
   "name": "python",
   "nbconvert_exporter": "python",
   "pygments_lexer": "ipython3",
   "version": "3.9.12"
  }
 },
 "nbformat": 4,
 "nbformat_minor": 5
}
