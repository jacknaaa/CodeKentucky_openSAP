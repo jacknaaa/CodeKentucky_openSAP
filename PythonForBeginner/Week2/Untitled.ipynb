{
 "cells": [
  {
   "cell_type": "code",
   "execution_count": 2,
   "id": "7af99e53-4e7c-45a1-97ef-b941e862a3b9",
   "metadata": {},
   "outputs": [
    {
     "name": "stdin",
     "output_type": "stream",
     "text": [
      "Enter the number of rows in the matrix:  3\n",
      "Enter the number of columns in the matrix:  3\n",
      "Enter the element for row 1, column 1:  3\n",
      "Enter the element for row 1, column 2:  3\n",
      "Enter the element for row 1, column 3:  3\n",
      "Enter the element for row 2, column 1:  3\n",
      "Enter the element for row 2, column 2:  3\n",
      "Enter the element for row 2, column 3:  3\n",
      "Enter the element for row 3, column 1:  3\n",
      "Enter the element for row 3, column 2:  3\n",
      "Enter the element for row 3, column 3:  3\n"
     ]
    },
    {
     "name": "stdout",
     "output_type": "stream",
     "text": [
      "Matrix:\n",
      "[3.0, 3.0, 3.0]\n",
      "[3.0, 3.0, 3.0]\n",
      "[3.0, 3.0, 3.0]\n",
      "\n",
      "Row Sums:\n",
      "Sum of values in row 1: 9.0\n",
      "Sum of values in row 2: 9.0\n",
      "Sum of values in row 3: 9.0\n"
     ]
    }
   ],
   "source": [
    "def get_matrix_dimensions():\n",
    "    while True:\n",
    "        try:\n",
    "            rows = int(input(\"Enter the number of rows in the matrix: \"))\n",
    "            columns = int(input(\"Enter the number of columns in the matrix: \"))\n",
    "            if rows <= 0 or columns <= 0:\n",
    "                raise ValueError\n",
    "            return rows, columns\n",
    "        except ValueError:\n",
    "            print(\"Invalid input. Please enter positive integers for rows and columns.\")\n",
    "\n",
    "def get_matrix_elements(rows, columns):\n",
    "    matrix = []\n",
    "    for i in range(rows):\n",
    "        row = []\n",
    "        for j in range(columns):\n",
    "            while True:\n",
    "                try:\n",
    "                    element = float(input(f\"Enter the element for row {i+1}, column {j+1}: \"))\n",
    "                    row.append(element)\n",
    "                    break\n",
    "                except ValueError:\n",
    "                    print(\"Invalid input. Please enter a numerical value.\")\n",
    "        matrix.append(row)\n",
    "    return matrix\n",
    "\n",
    "def print_row_sums(matrix):\n",
    "    for i, row in enumerate(matrix):\n",
    "        row_sum = sum(row)\n",
    "        print(f\"Sum of values in row {i+1}: {row_sum}\")\n",
    "\n",
    "def main():\n",
    "    rows, columns = get_matrix_dimensions()\n",
    "    matrix = get_matrix_elements(rows, columns)\n",
    "    \n",
    "    print(\"Matrix:\")\n",
    "    for row in matrix:\n",
    "        print(row)\n",
    "\n",
    "    print(\"\\nRow Sums:\")\n",
    "    print_row_sums(matrix)\n",
    "\n",
    "if __name__ == \"__main__\":\n",
    "    main()"
   ]
  },
  {
   "cell_type": "code",
   "execution_count": null,
   "id": "c81c95af-4bc4-4323-b70c-c325da153942",
   "metadata": {},
   "outputs": [],
   "source": []
  }
 ],
 "metadata": {
  "kernelspec": {
   "display_name": "Python 3 (ipykernel)",
   "language": "python",
   "name": "python3"
  },
  "language_info": {
   "codemirror_mode": {
    "name": "ipython",
    "version": 3
   },
   "file_extension": ".py",
   "mimetype": "text/x-python",
   "name": "python",
   "nbconvert_exporter": "python",
   "pygments_lexer": "ipython3",
   "version": "3.9.12"
  }
 },
 "nbformat": 4,
 "nbformat_minor": 5
}
