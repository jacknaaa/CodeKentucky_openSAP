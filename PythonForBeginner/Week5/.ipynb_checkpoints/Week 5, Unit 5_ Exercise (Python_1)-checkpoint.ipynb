{
 "cells": [
  {
   "cell_type": "code",
   "execution_count": 1,
   "id": "3194e69d",
   "metadata": {},
   "outputs": [
    {
     "name": "stdout",
     "output_type": "stream",
     "text": [
      "Enter the speed in km/h: 60\n",
      "The stopping distance for a car with a speed of 60.0 km/h is 54.0 meters.\n"
     ]
    }
   ],
   "source": [
    "def reaction_path(speed):\n",
    "    return speed * 3 / 10\n",
    "\n",
    "def brake_distance(speed):\n",
    "    return (speed / 10) ** 2\n",
    "\n",
    "def stopping_distance(speed):\n",
    "    reaction = reaction_path(speed)\n",
    "    brake = brake_distance(speed)\n",
    "    return reaction + brake\n",
    "\n",
    "# Get speed as input from the user\n",
    "speed_kmh = float(input(\"Enter the speed in km/h: \"))\n",
    "distance_m = stopping_distance(speed_kmh)\n",
    "\n",
    "print(f\"The stopping distance for a car with a speed of {speed_kmh} km/h is {distance_m} meters.\")\n"
   ]
  },
  {
   "cell_type": "code",
   "execution_count": null,
   "id": "768e965a",
   "metadata": {},
   "outputs": [],
   "source": []
  }
 ],
 "metadata": {
  "kernelspec": {
   "display_name": "Python 3 (ipykernel)",
   "language": "python",
   "name": "python3"
  },
  "language_info": {
   "codemirror_mode": {
    "name": "ipython",
    "version": 3
   },
   "file_extension": ".py",
   "mimetype": "text/x-python",
   "name": "python",
   "nbconvert_exporter": "python",
   "pygments_lexer": "ipython3",
   "version": "3.9.12"
  }
 },
 "nbformat": 4,
 "nbformat_minor": 5
}
