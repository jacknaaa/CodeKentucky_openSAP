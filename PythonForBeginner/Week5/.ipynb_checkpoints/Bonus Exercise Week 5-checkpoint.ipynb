{
 "cells": [
  {
   "cell_type": "code",
   "execution_count": null,
   "id": "0584cf48",
   "metadata": {},
   "outputs": [],
   "source": [
    "Bonus Exercise Week 5\n",
    "Instructions:\n",
    "Now you have the chance to earn bonus points towards your record of achievement. Click the button below to open CodeOcean and implement a solution for this optional bonus exercise. If you want, you can also solve it in a Jupyter Notebook first and copy the solution to CodeOcean afterwards.\n",
    "\n",
    "Prime numbers are natural numbers greater than 1 which are not divisible by any number beside 1 and the number itself. In other words, the number cannot be composed as a product of two natural numbers other than 1 and the number itself. There are infinite prime numbers and the first ones are:\n",
    "\n",
    "2, 3, 5, 7, 11, …\n",
    "\n",
    "Write a program, that gets an integer through input and creates a list containing all prime numbers until this input. To do so, two functions have to be implemented:\n",
    "\n",
    "The function is_prime() gets an integer as input and returns True if this integer is prime, and False if the integer is not prime.\n",
    "The function prime_list() gets an integer as input and checks each number from 2 to input, if it is prime by calling the above function. If a number is prime, it is appended to a list. This list is given back as the return value of prime_list().\n",
    "The program finally outputs the list of all prime numbers.\n",
    "\n",
    "Example 1:\n",
    "\n",
    "Up to which number do you want all prime numbers: 100\n",
    "[2, 3, 5, 7, 11, 13, 17, 19, 23, 29, 31, 37, 41, 43, 47, 53, 59, 61, 67, 71, 73, 79, 83, 89, 97]\n",
    "Example 2:\n",
    "\n",
    "Up to which number do you want all prime numbers: 13\n",
    "[2, 3, 5, 7, 11, 13]"
   ]
  },
  {
   "cell_type": "code",
   "execution_count": 1,
   "id": "020534c1",
   "metadata": {},
   "outputs": [
    {
     "name": "stdout",
     "output_type": "stream",
     "text": [
      "Up to which number do you want all prime numbers: 5\n",
      "[2, 3, 5]\n"
     ]
    }
   ],
   "source": [
    "def is_prime(number):\n",
    "    if number <= 1:\n",
    "        return False\n",
    "    if number <= 3:\n",
    "        return True\n",
    "    if number % 2 == 0 or number % 3 == 0:\n",
    "        return False\n",
    "    \n",
    "    i = 5\n",
    "    while i * i <= number:\n",
    "        if number % i == 0 or number % (i + 2) == 0:\n",
    "            return False\n",
    "        i += 6\n",
    "    \n",
    "    return True\n",
    "\n",
    "def prime_list(limit):\n",
    "    primes = []\n",
    "    for num in range(2, limit + 1):\n",
    "        if is_prime(num):\n",
    "            primes.append(num)\n",
    "    return primes\n",
    "\n",
    "# Input\n",
    "try:\n",
    "    limit = int(input(\"Up to which number do you want all prime numbers: \"))\n",
    "    if limit < 2:\n",
    "        print(\"Please enter a number greater than or equal to 2.\")\n",
    "    else:\n",
    "        primes = prime_list(limit)\n",
    "        print(primes)\n",
    "except ValueError:\n",
    "    print(\"Please enter a valid integer.\")\n"
   ]
  },
  {
   "cell_type": "code",
   "execution_count": null,
   "id": "b18ebebb",
   "metadata": {},
   "outputs": [],
   "source": []
  }
 ],
 "metadata": {
  "kernelspec": {
   "display_name": "Python 3 (ipykernel)",
   "language": "python",
   "name": "python3"
  },
  "language_info": {
   "codemirror_mode": {
    "name": "ipython",
    "version": 3
   },
   "file_extension": ".py",
   "mimetype": "text/x-python",
   "name": "python",
   "nbconvert_exporter": "python",
   "pygments_lexer": "ipython3",
   "version": "3.9.12"
  }
 },
 "nbformat": 4,
 "nbformat_minor": 5
}
