{
 "cells": [
  {
   "cell_type": "code",
   "execution_count": 1,
   "id": "5d94e517",
   "metadata": {},
   "outputs": [
    {
     "name": "stdout",
     "output_type": "stream",
     "text": [
      "Enter your last name: Jack\n",
      "Enter your first name: Joke\n",
      "Enter your student ID: 514253\n",
      "('Jack', 'Joke', '514253')\n"
     ]
    }
   ],
   "source": [
    "def get_student_data():\n",
    "    name = input(\"Enter your last name: \")\n",
    "    first_name = input(\"Enter your first name: \")\n",
    "    student_id = input(\"Enter your student ID: \")\n",
    "    return (name, first_name, student_id)\n",
    "\n",
    "# Call the function to get student data\n",
    "student_data = get_student_data()\n",
    "\n",
    "# Output the variable using print()\n",
    "print(student_data)\n"
   ]
  },
  {
   "cell_type": "code",
   "execution_count": null,
   "id": "e53773cb",
   "metadata": {},
   "outputs": [],
   "source": []
  }
 ],
 "metadata": {
  "kernelspec": {
   "display_name": "Python 3 (ipykernel)",
   "language": "python",
   "name": "python3"
  },
  "language_info": {
   "codemirror_mode": {
    "name": "ipython",
    "version": 3
   },
   "file_extension": ".py",
   "mimetype": "text/x-python",
   "name": "python",
   "nbconvert_exporter": "python",
   "pygments_lexer": "ipython3",
   "version": "3.9.12"
  }
 },
 "nbformat": 4,
 "nbformat_minor": 5
}
