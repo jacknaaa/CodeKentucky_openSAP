{
 "cells": [
  {
   "cell_type": "code",
   "execution_count": 1,
   "id": "d91104bb",
   "metadata": {},
   "outputs": [
    {
     "ename": "SyntaxError",
     "evalue": "invalid decimal literal (3704354856.py, line 1)",
     "output_type": "error",
     "traceback": [
      "\u001b[1;36m  Input \u001b[1;32mIn [1]\u001b[1;36m\u001b[0m\n\u001b[1;33m    Week 5_ Assignment (Python_1)\u001b[0m\n\u001b[1;37m          ^\u001b[0m\n\u001b[1;31mSyntaxError\u001b[0m\u001b[1;31m:\u001b[0m invalid decimal literal\n"
     ]
    }
   ],
   "source": [
    "Week 5_ Assignment (Python_1)\n",
    "\n",
    "Vignère Cipher\n",
    "You already implemented a solution for the Caesar cipher in week 3. As this cipher is quite weak, let’s turn to another cipher, the Vignère cipher.\n",
    "\n",
    "Like the Caesar cipher, the Vignère cipher is a simple substitution algorithm, that means, each letter is replaced by another letter. In the Caesar cipher, each letter is shifted the same number of times. And this number is the key. In Vignère these number of shifts change from letter to letter. The number of shifts are given by a keyword which is repeated until it matches the length of the text to be encrypted.\n",
    "\n",
    "For simplification we assume, that only letters are encrypted and that we only have to deal with lower case letters. Let’s have a look at the following example:\n",
    "\n",
    "In the first line there is the clear text.\n",
    "In the second line there is the repeated keyword random.\n",
    "In the third line the letter from the keyword is replaced by it’s position in the alphabet (a: 0, b: 1, c: 2, … z: 25). As r is on position 17, there is a 17 in the first position of the third row. This position determines how often the corresponding letter from the clear text has to be shifted.\n",
    "In the fourth line you can see the secret text. The first letter p from the clear text is shifted 17 times and results in g (as the end of the alphabet is already reached after 11 shifts, one starts again at the beginning of the alphabet). The second letter y is shifted 0 times as the a from random is at position 0 of the alphabet. Thus, this y is mapped to y. Important: The blank is not shifted as it is no letter. However the repetition of the keyword in line two is not influenced by that.\n",
    "                                       \n",
    "Clear Text\tp\ty\tt\th\to\tn\t \ti\ts\t \tb\te\ta\tu\tt\ti\tf\tu\tl\n",
    "Keyword\tr\ta\tn\td\to\tm\tr\ta\tn\td\to\tm\tr\ta\tn\td\to\tm\tr\n",
    "Position\t17\t0\t13\t3\t14\t12\t17\t0\t13\t3\t14\t12\t17\t0\t13\t3\t14\t12\t17\n",
    "Secret Text\tg\ty\tg\tk\tc\tz\t \ti\tf\t \tp\tq\tr\tu\tg\tl\tt\tg\tc\n",
    "\n",
    "\n",
    "Your Task\n",
    "Implement a program, that gets a text as input and in addition a keyword, which is the number of shifts.\n",
    "\n",
    "Implement a function encrypt_letter(), that gets a character and the key as input. The return value will be the encrypted character.\n",
    "Implement a function calculate_shifts(), that gets a letter as input parameter and returns the position of this letter in the alphabet (starting with a at position 0):\n",
    "Implement a function encrypt_text(), that gets a text and a keyword as input and returns the encrypted text. This function calls both calculate_shifts()and encrypt_letter()\n",
    "\n",
    "\n",
    "Hint 1\n",
    "The function encrypt_text() should do the following:\n",
    "\n",
    "The encrypt_text() function should turn the text and the keyword into lower case.\n",
    "The function steps through the clear text character by character.\n",
    "A counter is required, which steps through the letters of the keyword.\n",
    "The counter determines the letter from the keyword, which defines the number of shifts.\n",
    "The counter is incremented. If the counter is bigger than the length of the keyword , it should be set back to 0. This can be implemented with a simple modulo operation.\n",
    "The identified character of the keyword is taken as input for the function calculate_shifts()\n",
    "The output of this function is the key, which is the second parameter for the function encrypt_letter(). The first parameter is the character, identified at the beginning of this list\n",
    "The function encrypt_letter() should only encrypt letters. If it is called with a special character like 1 or ? it should simply return this character.\n",
    "\n",
    "\n",
    "Hint 2\n",
    "To check if a given character is a letter, you can use the string method .isalpha (). This methods returns True if all characters in the string are letters. If there is a character, which is not a letter, the method returns False. Example: \"A\".isalpha() is True, whereas \"2\".isalpha() returns False.\n",
    "\n",
    "\n",
    "\n",
    "Hint 3\n",
    "Get both the clear text and the keyword by the input() function. The encrypt_text() function should turn the text and the keyword into lower case equivalents using .lower(). Finally, print the return value from encrypt_text().\n",
    "\n",
    "\n",
    "\n",
    "Hint 4\n",
    "If you want to test your program, the keywords a or Aaa should result in the clear text aaa.\n",
    "\n",
    "\n",
    "\n",
    "Example\n",
    "Which text should be encrypted: Python is Really Beautiful\n",
    "Which keyword should be used? Random\n",
    "gygkcz if fqrlyb nvahwwrll\n"
   ]
  },
  {
   "cell_type": "code",
   "execution_count": 4,
   "id": "60fdfb74",
   "metadata": {},
   "outputs": [
    {
     "name": "stdout",
     "output_type": "stream",
     "text": [
      "Which text should be encrypted: Jack\n",
      "Which keyword should be used? Jack\n",
      "Saeu\n"
     ]
    }
   ],
   "source": [
    "def calculate_shifts(letter):\n",
    "    return ord(letter) - ord('a')\n",
    "\n",
    "def encrypt_letter(letter, key):\n",
    "    if letter.isalpha():\n",
    "        shift = calculate_shifts(key)\n",
    "        if letter.islower():\n",
    "            encrypted_pos = (calculate_shifts(letter) + shift) % 26\n",
    "            encrypted_letter = chr(encrypted_pos + ord('a'))\n",
    "        else:\n",
    "            encrypted_pos = (calculate_shifts(letter.lower()) + shift) % 26\n",
    "            encrypted_letter = chr(encrypted_pos + ord('A'))\n",
    "        return encrypted_letter\n",
    "    else:\n",
    "        return letter\n",
    "\n",
    "def encrypt_text(text, keyword):\n",
    "    encrypted_text = \"\"\n",
    "    keyword = keyword.lower()\n",
    "    keyword_length = len(keyword)\n",
    "    key_index = 0\n",
    "\n",
    "    for char in text:\n",
    "        encrypted_text += encrypt_letter(char, keyword[key_index])\n",
    "        if char.isalpha():\n",
    "            key_index = (key_index + 1) % keyword_length\n",
    "\n",
    "    return encrypted_text\n",
    "\n",
    "# Example usage\n",
    "# clear_text = \"python is beautiful\"\n",
    "clear_text = input(\"Which text should be encrypted: \")\n",
    "keyword = input(\"Which keyword should be used? \")\n",
    "encrypted_text = encrypt_text(clear_text, keyword)\n",
    "print(encrypted_text)\n"
   ]
  },
  {
   "cell_type": "code",
   "execution_count": null,
   "id": "23fd023f",
   "metadata": {},
   "outputs": [],
   "source": []
  }
 ],
 "metadata": {
  "kernelspec": {
   "display_name": "Python 3 (ipykernel)",
   "language": "python",
   "name": "python3"
  },
  "language_info": {
   "codemirror_mode": {
    "name": "ipython",
    "version": 3
   },
   "file_extension": ".py",
   "mimetype": "text/x-python",
   "name": "python",
   "nbconvert_exporter": "python",
   "pygments_lexer": "ipython3",
   "version": "3.9.12"
  }
 },
 "nbformat": 4,
 "nbformat_minor": 5
}
