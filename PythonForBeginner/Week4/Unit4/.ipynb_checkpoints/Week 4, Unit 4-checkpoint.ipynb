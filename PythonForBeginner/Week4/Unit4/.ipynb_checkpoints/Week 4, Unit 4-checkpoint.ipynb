{
 "cells": [
  {
   "cell_type": "code",
   "execution_count": null,
   "id": "439f8f76",
   "metadata": {},
   "outputs": [],
   "source": [
    "The file numbers.txt contains numbers. (Actually, the same numbers from the last exercise.) There is exactly one number per line. Read the numbers from the file and write only the even numbers into a new file named even_numbers.txt. Again, there should be one number per line. The order of the numbers shall be unchanged. To indicate that the program is finished, print the following output: “List of even numbers created!”\n",
    "\n",
    "Hint\n",
    "First read all the numbers as explained in the last exercise and put them into a list. Open the new file for writing. Go through the list and check if a number is even. If this is the case, change the integer into a string and do not forget to add a line break. Write this string into the file. Finally implement the print statement.\n"
   ]
  },
  {
   "cell_type": "code",
   "execution_count": 1,
   "id": "ee0e0726",
   "metadata": {},
   "outputs": [
    {
     "name": "stdout",
     "output_type": "stream",
     "text": [
      "Unit 4\n"
     ]
    }
   ],
   "source": [
    "print(\"Unit 4\")"
   ]
  },
  {
   "cell_type": "code",
   "execution_count": 7,
   "id": "fbd77db4",
   "metadata": {},
   "outputs": [
    {
     "name": "stdout",
     "output_type": "stream",
     "text": [
      "[4780, 5416, 6906, 9006, 8910, 6504, 7946, 9122, 5564, 7334, 8922, 6704, 6384, 9760, 7564, 9472, 8960, 7176, 2404, 1642, 4830, 1948, 1452, 1022, 3374, 2984, 4854, 3202, 9424, 1448, 1060, 7292, 3180, 5618, 5222, 8996, 5136, 1716, 5058, 3390, 6506, 7092, 5496, 8740, 6018, 2084, 8322, 9312, 6938, 1290, 4916, 7676, 1136, 8670, 6812, 7612, 1840, 4560, 3374, 3020, 9190, 9276, 1974, 8436, 7706, 4148, 1040, 5868, 8658, 1166, 6652, 1760, 7484, 4598, 3530, 9214, 8424, 3846, 1456, 5154, 1650, 3422, 2956, 2380, 7722, 3632, 1482, 4130]\n"
     ]
    }
   ],
   "source": [
    "list_number = []\n",
    "\n",
    "with open(\"numbers.txt\", \"r\") as file:\n",
    "    for line in file:\n",
    "        line = int(line.strip())\n",
    "        if(line % 2 == 0):\n",
    "            list_number.append(line)\n",
    "\n",
    "with open(\"even_numbers.txt\", \"w\") as w_file:\n",
    "    for item in list_number:\n",
    "        w_file.write(str(item) + \"\\n\""
   ]
  },
  {
   "cell_type": "code",
   "execution_count": null,
   "id": "eb46f562",
   "metadata": {},
   "outputs": [],
   "source": []
  }
 ],
 "metadata": {
  "kernelspec": {
   "display_name": "Python 3 (ipykernel)",
   "language": "python",
   "name": "python3"
  },
  "language_info": {
   "codemirror_mode": {
    "name": "ipython",
    "version": 3
   },
   "file_extension": ".py",
   "mimetype": "text/x-python",
   "name": "python",
   "nbconvert_exporter": "python",
   "pygments_lexer": "ipython3",
   "version": "3.9.12"
  }
 },
 "nbformat": 4,
 "nbformat_minor": 5
}
