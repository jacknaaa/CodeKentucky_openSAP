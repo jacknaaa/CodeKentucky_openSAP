{
 "cells": [
  {
   "cell_type": "code",
   "execution_count": null,
   "id": "7b0c8e26",
   "metadata": {},
   "outputs": [],
   "source": [
    "Week 4: Bonus (Python_1)\n",
    "You probably know the game “Rock, Paper, Scissors”. A game for two players. Each player has three options, namely rock, paper, scissors, which are formed by the player’s hand. The rules are quite easy: - rock beats scissors - scissors beats paper - paper beats rock.\n",
    "\n",
    "If both players have chosen the same object, it’s a draw.\n",
    "\n",
    "In the following, we play 100 consecutive games. Each player has to hand in a file consisting of one letter per line. The letters are either “R”, “P” or “S”.\n",
    "\n",
    "Write a Python program that reads two files player1.txt and player2.txt. These files are organized according to the above rules. The program should compare both inputs and calculate how many games have been won by player1, by player2 and how many games ended in a draw. The results are written into a file result.txt which looks as follows:\n",
    "\n",
    "Player1 wins: 23\n",
    "Player2 wins: 48\n",
    "Draws: 29\n",
    "\n",
    "\n",
    "The sum should always be 100.\n",
    "\n",
    "Please note: When programming your solution in CodeOcean, files created by your program will not be visible. If you want to check the content of those files, we suggest to let your code run on your machine (e.g. in a Jupyter Notebook) and check the content of the files there.\n",
    "    "
   ]
  },
  {
   "cell_type": "code",
   "execution_count": 2,
   "id": "fa60eda0",
   "metadata": {},
   "outputs": [],
   "source": [
    "player1 = []\n",
    "with open(\"player1.txt\", \"r\") as file:\n",
    "    for line in file:\n",
    "        player1.append(line.strip())\n",
    "\n",
    "player2 = []\n",
    "with open(\"player2.txt\", \"r\") as file:\n",
    "    for line in file:\n",
    "        player2.append(line.strip())\n",
    "\n",
    "results = [0, 0, 0]\n",
    "\n",
    "for i in range(100):\n",
    "    if player1[i] == \"R\":\n",
    "        if player2[i] == \"R\":\n",
    "            results[2] += 1\n",
    "        elif player2[i] == \"S\":\n",
    "            results[0] += 1\n",
    "        else:\n",
    "            results[1] += 1\n",
    "    elif player1[i] == \"S\":\n",
    "        if player2[i] == \"R\":\n",
    "            results[1] += 1\n",
    "        elif player2[i] == \"S\":\n",
    "            results[2] += 1\n",
    "        else:\n",
    "            results[0] += 1\n",
    "    else:\n",
    "        if player2[i] == \"R\":\n",
    "            results[0] += 1\n",
    "        elif player2[i] == \"S\":\n",
    "            results[1] += 1\n",
    "        else:\n",
    "            results[2] += 1\n",
    "\n",
    "with open(\"results.txt\", \"w\") as file:\n",
    "    file.write(\"Player1 wins: \" + str(results[0]) + \"\\n\")\n",
    "    file.write(\"Player2 wins: \" + str(results[1]) + \"\\n\")\n",
    "    file.write(\"Draw2: \" + str(results[2]) + \"\\n\")"
   ]
  },
  {
   "cell_type": "code",
   "execution_count": null,
   "id": "8fbf31ef",
   "metadata": {},
   "outputs": [],
   "source": []
  }
 ],
 "metadata": {
  "kernelspec": {
   "display_name": "Python 3 (ipykernel)",
   "language": "python",
   "name": "python3"
  },
  "language_info": {
   "codemirror_mode": {
    "name": "ipython",
    "version": 3
   },
   "file_extension": ".py",
   "mimetype": "text/x-python",
   "name": "python",
   "nbconvert_exporter": "python",
   "pygments_lexer": "ipython3",
   "version": "3.9.12"
  }
 },
 "nbformat": 4,
 "nbformat_minor": 5
}
