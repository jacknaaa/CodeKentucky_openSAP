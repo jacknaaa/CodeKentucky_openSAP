{
 "cells": [
  {
   "cell_type": "code",
   "execution_count": 24,
   "id": "a7f5ad23",
   "metadata": {},
   "outputs": [],
   "source": [
    "list_key_line = []\n",
    "with open(\"key.txt\", \"r\") as key_file:\n",
    "    for key_line in key_file:\n",
    "        list_key_line.append(key_line.strip())\n",
    "col = list_key_line[0]\n",
    "row = list_key_line[1]\n",
    "\n",
    "list_secret_line = []\n",
    "with open(\"secret.txt\", \"r\") as secret_file:\n",
    "    for secret_line in secret_file:\n",
    "        list_secret_line.append(secret_line.strip())\n",
    "    \n",
    "\n",
    "\n",
    "col_count = 1  \n",
    "public_text = []\n",
    "line = \"\"\n",
    "\n",
    "for c in list_secret_line:\n",
    "    line += c\n",
    "    col_count += 1\n",
    "    if col_count == int(col):\n",
    "        public_text.append(line)\n",
    "        line = \"\"\n",
    "        col_count = 1\n",
    "\n",
    "\n",
    "\n",
    "        \n",
    "with open(\"public.txt\", \"w\") as public_file:\n",
    "    for line in public_text:\n",
    "        line += \"\\n\"\n",
    "        public_file.write(line)\n"
   ]
  },
  {
   "cell_type": "code",
   "execution_count": null,
   "id": "c4082d15",
   "metadata": {},
   "outputs": [],
   "source": []
  }
 ],
 "metadata": {
  "kernelspec": {
   "display_name": "Python 3 (ipykernel)",
   "language": "python",
   "name": "python3"
  },
  "language_info": {
   "codemirror_mode": {
    "name": "ipython",
    "version": 3
   },
   "file_extension": ".py",
   "mimetype": "text/x-python",
   "name": "python",
   "nbconvert_exporter": "python",
   "pygments_lexer": "ipython3",
   "version": "3.9.12"
  }
 },
 "nbformat": 4,
 "nbformat_minor": 5
}
