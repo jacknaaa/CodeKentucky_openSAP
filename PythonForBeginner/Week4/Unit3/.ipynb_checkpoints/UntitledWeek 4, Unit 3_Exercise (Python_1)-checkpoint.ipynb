{
 "cells": [
  {
   "cell_type": "code",
   "execution_count": 25,
   "id": "24ccde62",
   "metadata": {},
   "outputs": [
    {
     "name": "stdout",
     "output_type": "stream",
     "text": [
      "9853\n",
      "9760\n",
      "9745\n"
     ]
    }
   ],
   "source": [
    "list_number = []\n",
    "\n",
    "#Open file\n",
    "with open(\"numbers.txt\", \"r\") as file:\n",
    "    for line in file:\n",
    "        line = int(line.strip())\n",
    "        list_number.append(line)\n",
    "\n",
    "list_number.sort()\n",
    "print(list_number[-1])\n",
    "print(list_number[-2])\n",
    "print(list_number[-3])\n"
   ]
  },
  {
   "cell_type": "code",
   "execution_count": null,
   "id": "9af8b3c5",
   "metadata": {},
   "outputs": [],
   "source": []
  }
 ],
 "metadata": {
  "kernelspec": {
   "display_name": "Python 3 (ipykernel)",
   "language": "python",
   "name": "python3"
  },
  "language_info": {
   "codemirror_mode": {
    "name": "ipython",
    "version": 3
   },
   "file_extension": ".py",
   "mimetype": "text/x-python",
   "name": "python",
   "nbconvert_exporter": "python",
   "pygments_lexer": "ipython3",
   "version": "3.9.12"
  }
 },
 "nbformat": 4,
 "nbformat_minor": 5
}
