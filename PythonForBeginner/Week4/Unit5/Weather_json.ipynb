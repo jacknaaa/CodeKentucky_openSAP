{
 "cells": [
  {
   "cell_type": "code",
   "execution_count": 3,
   "id": "f604b284",
   "metadata": {},
   "outputs": [
    {
     "name": "stdout",
     "output_type": "stream",
     "text": [
      "{'coord': {'lon': -0.1257, 'lat': 51.5085}, 'weather': [{'id': 801, 'main': 'Clouds', 'description': 'few clouds', 'icon': '02n'}], 'base': 'stations', 'main': {'temp': 62.47, 'feels_like': 61.29, 'temp_min': 58.44, 'temp_max': 65.01, 'pressure': 1014, 'humidity': 61}, 'visibility': 10000, 'wind': {'speed': 3, 'deg': 264, 'gust': 5.99}, 'clouds': {'all': 11}, 'dt': 1691440058, 'sys': {'type': 2, 'id': 2075535, 'country': 'GB', 'sunrise': 1691382767, 'sunset': 1691437193}, 'timezone': 3600, 'id': 2643743, 'name': 'London', 'cod': 200}\n"
     ]
    }
   ],
   "source": [
    "import requests\n",
    "url = \"http://api.openweathermap.org/data/2.5/weather?q=London&units=imperial&appid=67da29cb91129f1a68c1c06c1be92daa\"\n",
    "request = requests.get(url)\n",
    "\n",
    "weather_json = request.json()\n",
    "\n",
    "print(weather_json)"
   ]
  },
  {
   "cell_type": "code",
   "execution_count": null,
   "id": "f60897ce",
   "metadata": {},
   "outputs": [],
   "source": []
  }
 ],
 "metadata": {
  "kernelspec": {
   "display_name": "Python 3 (ipykernel)",
   "language": "python",
   "name": "python3"
  },
  "language_info": {
   "codemirror_mode": {
    "name": "ipython",
    "version": 3
   },
   "file_extension": ".py",
   "mimetype": "text/x-python",
   "name": "python",
   "nbconvert_exporter": "python",
   "pygments_lexer": "ipython3",
   "version": "3.9.12"
  }
 },
 "nbformat": 4,
 "nbformat_minor": 5
}
