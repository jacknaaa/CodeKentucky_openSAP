{
 "cells": [
  {
   "cell_type": "code",
   "execution_count": 14,
   "id": "f54da0b4",
   "metadata": {},
   "outputs": [
    {
     "name": "stdout",
     "output_type": "stream",
     "text": [
      "H0 t0st 00000\n",
      "This string have 7 vowels\n"
     ]
    }
   ],
   "source": [
    "num_vowels = {\"a\" : 0, \"e\" : 0  , \"i\" : 0, \"o\" : 0, \"u\": 0}\n",
    "\n",
    "input_string = \"Hi test aeiou\"\n",
    "\n",
    "for character in input_string:\n",
    "    replace_string = num_vowels.get(character)\n",
    "    if(replace_string != None):\n",
    "        input_string = input_string.replace(character, str(replace_string))\n",
    "print(input_string)\n",
    "print(\"This string have \" + str(input_string.count(\"0\")) + \" vowels\")"
   ]
  },
  {
   "cell_type": "code",
   "execution_count": null,
   "id": "d66eacdc",
   "metadata": {},
   "outputs": [],
   "source": []
  }
 ],
 "metadata": {
  "kernelspec": {
   "display_name": "Python 3 (ipykernel)",
   "language": "python",
   "name": "python3"
  },
  "language_info": {
   "codemirror_mode": {
    "name": "ipython",
    "version": 3
   },
   "file_extension": ".py",
   "mimetype": "text/x-python",
   "name": "python",
   "nbconvert_exporter": "python",
   "pygments_lexer": "ipython3",
   "version": "3.9.12"
  }
 },
 "nbformat": 4,
 "nbformat_minor": 5
}
