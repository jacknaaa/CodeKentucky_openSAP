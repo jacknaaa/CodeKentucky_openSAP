{
 "cells": [
  {
   "cell_type": "code",
   "execution_count": 71,
   "id": "d3b0edda",
   "metadata": {},
   "outputs": [
    {
     "name": "stdout",
     "output_type": "stream",
     "text": [
      "Chair            3  29.99   89.97\n",
      "Table            1 299.00  299.00\n",
      "Sideboard        2 349.00  698.00\n",
      "Shelf           40  90.00 3600.00\n"
     ]
    }
   ],
   "source": [
    "with open(\"invoice_data.txt\", \"r\") as file:\n",
    "    data = file.read()\n",
    "lines = data.strip().split(\"\\n\")\n",
    "\n",
    "for line in lines:\n",
    "    name, units, price = line.split()\n",
    "    units = int(units)\n",
    "    price = float(price)\n",
    "    total_price = units * price\n",
    "    print(\n",
    "        f\"{name:14s}\",\n",
    "        f\"{units:3}\",\n",
    "        f\"{price:6.2f}\",\n",
    "        f\"{total_price:7.2f}\"\n",
    "    )"
   ]
  },
  {
   "cell_type": "code",
   "execution_count": null,
   "id": "8c43d9a9",
   "metadata": {},
   "outputs": [],
   "source": []
  }
 ],
 "metadata": {
  "kernelspec": {
   "display_name": "Python 3 (ipykernel)",
   "language": "python",
   "name": "python3"
  },
  "language_info": {
   "codemirror_mode": {
    "name": "ipython",
    "version": 3
   },
   "file_extension": ".py",
   "mimetype": "text/x-python",
   "name": "python",
   "nbconvert_exporter": "python",
   "pygments_lexer": "ipython3",
   "version": "3.9.12"
  }
 },
 "nbformat": 4,
 "nbformat_minor": 5
}
