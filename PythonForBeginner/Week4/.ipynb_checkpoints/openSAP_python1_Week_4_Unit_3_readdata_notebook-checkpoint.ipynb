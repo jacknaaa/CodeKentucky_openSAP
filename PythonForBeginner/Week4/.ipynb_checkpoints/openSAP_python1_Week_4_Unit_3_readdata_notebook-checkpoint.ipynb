{
 "cells": [
  {
   "cell_type": "markdown",
   "metadata": {},
   "source": [
    "# Reading data from files\n",
    "How to read from a file now? Files are organized sequentially as mentioned before, i.e. they consist of consecutive\n",
    "lines. For processing sequences the `for` loop is suitable. Specifically, one can iterate over the lines of a file like\n",
    "follows:"
   ]
  },
  {
   "cell_type": "code",
   "execution_count": 1,
   "metadata": {},
   "outputs": [
    {
     "ename": "FileNotFoundError",
     "evalue": "[Errno 2] No such file or directory: 'lorem_ipsum.txt'",
     "output_type": "error",
     "traceback": [
      "\u001b[1;31m---------------------------------------------------------------------------\u001b[0m",
      "\u001b[1;31mFileNotFoundError\u001b[0m                         Traceback (most recent call last)",
      "Input \u001b[1;32mIn [1]\u001b[0m, in \u001b[0;36m<cell line: 2>\u001b[1;34m()\u001b[0m\n\u001b[0;32m      1\u001b[0m \u001b[38;5;66;03m# open file\u001b[39;00m\n\u001b[1;32m----> 2\u001b[0m \u001b[38;5;28;01mwith\u001b[39;00m \u001b[38;5;28;43mopen\u001b[39;49m\u001b[43m(\u001b[49m\u001b[38;5;124;43m\"\u001b[39;49m\u001b[38;5;124;43mlorem_ipsum.txt\u001b[39;49m\u001b[38;5;124;43m\"\u001b[39;49m\u001b[43m,\u001b[49m\u001b[43m \u001b[49m\u001b[38;5;124;43m\"\u001b[39;49m\u001b[38;5;124;43mr\u001b[39;49m\u001b[38;5;124;43m\"\u001b[39;49m\u001b[43m)\u001b[49m \u001b[38;5;28;01mas\u001b[39;00m file:\n\u001b[0;32m      3\u001b[0m     \u001b[38;5;66;03m# read file line by line and output the lines\u001b[39;00m\n\u001b[0;32m      4\u001b[0m     \u001b[38;5;28;01mfor\u001b[39;00m line \u001b[38;5;129;01min\u001b[39;00m file:\n\u001b[0;32m      5\u001b[0m         \u001b[38;5;28mprint\u001b[39m(line)\n",
      "\u001b[1;31mFileNotFoundError\u001b[0m: [Errno 2] No such file or directory: 'lorem_ipsum.txt'"
     ]
    }
   ],
   "source": [
    "# open file\n",
    "with open(\"lorem_ipsum.txt\", \"r\") as file:\n",
    "    # read file line by line and output the lines\n",
    "    for line in file:\n",
    "        print(line)"
   ]
  },
  {
   "cell_type": "markdown",
   "metadata": {},
   "source": [
    "If you compare the output of the program with the content of the file (e.g. in a text editor), you notice that blank\n",
    "lines have been added to the output. What is the reason for this?  \n",
    "At the end of each line there is a line break `\\n` in the text file. This is only visible indirectly, because the text\n",
    "continues on the next line. On output, the function `print()` adds another line break, hence the blank line. \n",
    "\n",
    "You can correct this behaviour in several ways. One way is to set the `end` parameter in the `print()` function to an\n",
    "empty character `end = \"\"`.  \n",
    "Another way is to *strip* the line first. For strings there is a method `.strip()`. This removes spaces, tabs and line\n",
    "breaks at the beginning and at the end of a string. `.strip()` is often used when reading forms to prevent a leading\n",
    "space from changing the input. With one optional argument, you could also specify which characters should be removed.  \n",
    "Alternatively, `.lstrip()` or `.rstrip()` can be used. In this case something is deleted only left or right of the\n",
    "string."
   ]
  },
  {
   "cell_type": "code",
   "execution_count": null,
   "metadata": {},
   "outputs": [],
   "source": [
    "# Open file\n",
    "with open(\"lorem_ipsum.txt\", \"r\") as file:\n",
    "    # read file line by line, strip from  and output the lines\n",
    "    for line in file:\n",
    "        line = line.strip()\n",
    "        print(line)"
   ]
  },
  {
   "cell_type": "markdown",
   "metadata": {},
   "source": [
    "## Output the contents of a file twice\n",
    "In the following program, the `for` loop is run twice. What does the output look like? Why?"
   ]
  },
  {
   "cell_type": "code",
   "execution_count": null,
   "metadata": {},
   "outputs": [],
   "source": [
    "# open file\n",
    "with open(\"lorem_ipsum.txt\", \"r\") as file:\n",
    "    # read file line by line and print the lines\n",
    "    print(\"First round\")\n",
    "    for line in file:\n",
    "        line = line.strip()\n",
    "        print(line)\n",
    "\n",
    "    # read file line by line and print the lines\n",
    "    print(\"Second round\")\n",
    "    for line in file:\n",
    "        line = line.strip()\n",
    "        print(line)"
   ]
  },
  {
   "cell_type": "markdown",
   "metadata": {},
   "source": [
    "When reading a file, the \"read cursor\" or \"read pointer\" is moved character by character over the file. If the *read\n",
    "pointer* arrives at the end of the file and is **not** reset or set to another position, it can not continue reading as\n",
    "the file ends there. To place the *read cursor*, the method `.seek()` can be used. However, this is beyond the scope of the course. "
   ]
  },
  {
   "cell_type": "markdown",
   "metadata": {},
   "source": [
    "## Read a file into a list in one go\n",
    "It is possible that the line breaks are superfluous and only exist because a paper page has a limited width for example.\n",
    "In this case, it may make sense to read the entire text \"in one go\" without iterating over the lines using a loop. The\n",
    "method `.readlines()` is useful for this. The result is a list with **one** entry."
   ]
  },
  {
   "cell_type": "code",
   "execution_count": null,
   "metadata": {},
   "outputs": [],
   "source": [
    "# Open file\n",
    "with open(\"lorem_ipsum.txt\", \"r\") as file:\n",
    "    # read file in one go\n",
    "    line = file.readlines()\n",
    "    print(line)"
   ]
  },
  {
   "cell_type": "markdown",
   "metadata": {},
   "source": [
    "# Exercise 1:\n",
    "In the file `numbers2.txt` there is one number per line. Read the file and sum up the numbers. Output your result."
   ]
  },
  {
   "cell_type": "code",
   "execution_count": null,
   "metadata": {},
   "outputs": [],
   "source": []
  }
 ],
 "metadata": {
  "file_extension": ".py",
  "kernelspec": {
   "display_name": "Python 3 (ipykernel)",
   "language": "python",
   "name": "python3"
  },
  "language_info": {
   "codemirror_mode": {
    "name": "ipython",
    "version": 3
   },
   "file_extension": ".py",
   "mimetype": "text/x-python",
   "name": "python",
   "nbconvert_exporter": "python",
   "pygments_lexer": "ipython3",
   "version": "3.9.12"
  },
  "mimetype": "text/x-python",
  "name": "python",
  "npconvert_exporter": "python",
  "pygments_lexer": "ipython3",
  "version": 3
 },
 "nbformat": 4,
 "nbformat_minor": 2
}
